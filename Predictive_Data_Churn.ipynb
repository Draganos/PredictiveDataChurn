{
  "cells": [
    {
      "cell_type": "raw",
      "id": "ae0f2f60-a1ef-438b-b793-0c918fa8f74a",
      "metadata": {
        "id": "ae0f2f60-a1ef-438b-b793-0c918fa8f74a"
      },
      "source": [
        "##This project has the goal of building the foundation of a predictive model for customer churn.\n",
        "To do this, i've picked out the following data types which are most crucial:"
      ]
    },
    {
      "cell_type": "raw",
      "id": "f018d03f-1ff9-4eef-b9e3-8a6692645a78",
      "metadata": {
        "id": "f018d03f-1ff9-4eef-b9e3-8a6692645a78"
      },
      "source": [
        "|       Name            | Description                                      | Relevance                                              |\n",
        "| --------------------- | ------------------------------------------------ | ------------------------------------------------------ |\n",
        "| Customer_Demographics | Includes age, gender, income, and marital status | Useful for understanding demographic patterns of churn |\n",
        "| Transaction_History   | Contains spending and payment data               | Financial behavior suggests patterns relevant          |\n",
        "| Customer_Service      | Records number of support tickets and complaints | Poor service experience can push churn                 |\n",
        "| Online_Activity       | Includes login frequency & last activity date    | Declining engagement indicates potential churn         |\n",
        "| Churn_Status          | Indicates whether the customer has churned       | The target variable                                    |\n",
        "\n",
        "To churn correctly - combine all types of data and merge on one key (CustomerID key)\n",
        "\n",
        "Relevant data:\n",
        "* tot. customers: 7043\n",
        "* tot. variables after merging: 35\n",
        "* Churn rate: 26.5%\n",
        "\n",
        "Relevant types to note:\n",
        "\n",
        "0.   CustomerID\n",
        "1.   Age\n",
        "2.   Gender\n",
        "3.   MaritalStatus\n",
        "4.   IncomeLevel\n",
        "5.   TransactionID\n",
        "6.   TransactionDate\n",
        "7.   AmountSpent\n",
        "8.  ProductCategory\n",
        "9.  InteractionID\n",
        "10.  InteractionDate\n",
        "11.  InteractionType\n",
        "12.  ResolutionStatus\n",
        "13.  LastLoginDate\n",
        "14.  LoginFrequency\n",
        "15.  ServiceUsage\n",
        "16.  ChurnStatus"
      ]
    },
    {
      "cell_type": "code",
      "execution_count": 12,
      "id": "b4b01be8-a058-49fd-95b4-5416b04838a6",
      "metadata": {
        "id": "b4b01be8-a058-49fd-95b4-5416b04838a6"
      },
      "outputs": [],
      "source": [
        "#importing and labelling data\n",
        "#service represents customer service, activity represents online activity as referred to table above\n",
        "import pandas as pd\n",
        "excelfile = pd.ExcelFile(\"Customer_Churn_Data_Large.xlsx\")\n",
        "excelfile.sheet_names\n",
        "demographics = pd.read_excel(excelfile, \"Customer_Demographics\")\n",
        "transactions = pd.read_excel(excelfile, \"Transaction_History\")\n",
        "service = pd.read_excel(excelfile, \"Customer_Service\")\n",
        "activity = pd.read_excel(excelfile, \"Online_Activity\")\n",
        "churn = pd.read_excel(excelfile, \"Churn_Status\")\n",
        "\n",
        "#select only correct columns from demographics dataframe\n",
        "demographics_selected = demographics[['CustomerID', 'Age', 'Gender', 'IncomeLevel', 'MaritalStatus']]\n",
        "\n",
        "#merging data under key CustomerID\n",
        "df = demographics_selected.merge(transactions, on=\"CustomerID\", how=\"left\")\n",
        "df = df.merge(service, on=\"CustomerID\", how=\"left\")\n",
        "df = df.merge(activity, on=\"CustomerID\", how=\"left\")\n",
        "df = df.merge(churn, on=\"CustomerID\", how=\"left\")\n",
        "df.fillna({\n",
        "    'IncomeLevel': 'Missing',\n",
        "}, inplace=True)\n",
        "\n",
        "#remove outliers as needed//set bounds for outliers by quantiles\n",
        "for col in ['Age', 'AmountSpent', 'LoginFrequency']:\n",
        "    q01 = df[col].quantile(0.01)\n",
        "    q99 = df[col].quantile(0.99)\n",
        "    df[col] = df[col].clip(q01, q99)\n",
        "\n",
        "df = pd.get_dummies(df, drop_first=True)\n",
        "from sklearn.preprocessing import StandardScaler\n",
        "scaler = StandardScaler()\n",
        "numeric = df.select_dtypes(include=['float64', 'int64']).columns\n",
        "df[numeric] = scaler.fit_transform(df[numeric])\n",
        "df.to_csv(\"cleaned_churn_dataset.csv\", index=False)"
      ]
    },
    {
      "cell_type": "code",
      "source": [],
      "metadata": {
        "id": "GJjdetGdJg-3"
      },
      "id": "GJjdetGdJg-3",
      "execution_count": null,
      "outputs": []
    },
    {
      "cell_type": "code",
      "execution_count": null,
      "id": "aeb9cfb4-d554-4bb4-bbc6-a92e1ae85a32",
      "metadata": {
        "id": "aeb9cfb4-d554-4bb4-bbc6-a92e1ae85a32"
      },
      "outputs": [],
      "source": []
    },
    {
      "cell_type": "markdown",
      "metadata": {
        "id": "3a53a5cb"
      },
      "source": [
        "## Analyze churn distribution\n",
        "\n",
        "### Subtask:\n",
        "Visualize the distribution of the 'ChurnStatus' column to understand the proportion of churned versus non-churned customers.\n"
      ],
      "id": "3a53a5cb"
    },
    {
      "cell_type": "code",
      "metadata": {
        "colab": {
          "base_uri": "https://localhost:8080/",
          "height": 410
        },
        "id": "df34742d",
        "outputId": "0c0a6ad1-36d4-4a17-aed6-2cfbf8324c0e"
      },
      "source": [
        "import matplotlib.pyplot as plt\n",
        "import seaborn as sns\n",
        "\n",
        "plt.figure(figsize=(6, 4))\n",
        "sns.countplot(x='ChurnStatus', data=df)\n",
        "plt.title('Distribution of Customer Churn Status')\n",
        "plt.xlabel('Churn Status')\n",
        "plt.ylabel('Number of Customers')\n",
        "plt.show()\n",
        "\n",
        "numerical_cols = df.select_dtypes(include=['float64', 'int64']).columns.tolist()\n",
        "exclude_cols = ['CustomerID', 'TransactionID', 'ChurnStatus']\n",
        "numerical_cols = [col for col in numerical_cols if col not in exclude_cols]\n",
        "\n",
        "for col in numerical_cols:\n",
        "    plt.figure(figsize=(10, 6))\n",
        "    sns.histplot(data=df, x=col, kde=True)\n",
        "    plt.title(f'Distribution of {col}')\n",
        "    plt.xlabel(col)\n",
        "    plt.ylabel('Frequency')\n",
        "    plt.show()\n",
        "\n",
        "    plt.figure(figsize=(10, 6))\n",
        "    sns.boxplot(data=df, x=col)\n",
        "    plt.title(f'Box Plot of {col}')\n",
        "    plt.xlabel(col)\n",
        "    plt.show()"
      ],
      "id": "df34742d",
      "execution_count": 15,
      "outputs": [
        {
          "output_type": "display_data",
          "data": {
            "text/plain": [
              "<Figure size 600x400 with 1 Axes>"
            ],
            "image/png": "[encoded data removed]"
          },
          "metadata": {}
        }
      ]
    }
  ],
  "metadata": {
    "kernelspec": {
      "display_name": "Python 3 (ipykernel)",
      "language": "python",
      "name": "python3"
    },
    "language_info": {
      "codemirror_mode": {
        "name": "ipython",
        "version": 3
      },
      "file_extension": ".py",
      "mimetype": "text/x-python",
      "name": "python",
      "nbconvert_exporter": "python",
      "pygments_lexer": "ipython3",
      "version": "3.12.4"
    },
    "colab": {
      "provenance": []
    }
  },
  "nbformat": 4,
  "nbformat_minor": 5
}