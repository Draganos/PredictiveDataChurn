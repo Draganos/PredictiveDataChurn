{
  "cells": [
    {
      "cell_type": "markdown",
      "metadata": {
        "id": "view-in-github",
        "colab_type": "text"
      },
      "source": [
        "<a href=\"https://colab.research.google.com/github/Draganos/PredictiveDataChurn/blob/main/Predictive_Data_Churn.ipynb\" target=\"_parent\"><img src=\"https://colab.research.google.com/assets/colab-badge.svg\" alt=\"Open In Colab\"/></a>"
      ]
    },
    {
      "cell_type": "raw",
      "id": "ae0f2f60-a1ef-438b-b793-0c918fa8f74a",
      "metadata": {
        "id": "ae0f2f60-a1ef-438b-b793-0c918fa8f74a"
      },
      "source": [
        "##This project has the goal of building the foundation of a predictive model for customer churn.\n",
        "To do this, i've picked out the following data types which are most crucial:"
      ]
    },
    {
      "cell_type": "raw",
      "id": "f018d03f-1ff9-4eef-b9e3-8a6692645a78",
      "metadata": {
        "id": "f018d03f-1ff9-4eef-b9e3-8a6692645a78"
      },
      "source": [
        "|       Name            | Description                                      | Relevance                                              |\n",
        "| --------------------- | ------------------------------------------------ | ------------------------------------------------------ |\n",
        "| Customer_Demographics | Includes age, gender, income, and marital status | Useful for understanding demographic patterns of churn |\n",
        "| Transaction_History   | Contains spending and payment data               | Financial behavior suggests patterns relevant          |\n",
        "| Customer_Service      | Records number of support tickets and complaints | Poor service experience can push churn                 |\n",
        "| Online_Activity       | Includes login frequency & last activity date    | Declining engagement indicates potential churn         |\n",
        "| Churn_Status          | Indicates whether the customer has churned       | The target variable                                    |\n",
        "\n",
        "To churn correctly - combine all types of data and merge on one key (CustomerID key)\n",
        "\n",
        "Relevant data:\n",
        "* tot. customers: 7043\n",
        "* tot. variables after merging: 35\n",
        "* Churn rate: 26.5%\n",
        "\n",
        "Relevant types to note:\n",
        "\n",
        "0.   CustomerID\n",
        "1.   Age\n",
        "2.   Gender\n",
        "3.   MaritalStatus\n",
        "4.   IncomeLevel\n",
        "5.   TransactionID\n",
        "6.   TransactionDate\n",
        "7.   AmountSpent\n",
        "8.  ProductCategory\n",
        "9.  InteractionID\n",
        "10.  InteractionDate\n",
        "11.  InteractionType\n",
        "12.  ResolutionStatus\n",
        "13.  LastLoginDate\n",
        "14.  LoginFrequency\n",
        "15.  ServiceUsage\n",
        "16.  ChurnStatus"
      ]
    },
    {
      "cell_type": "code",
      "execution_count": 10,
      "id": "b4b01be8-a058-49fd-95b4-5416b04838a6",
      "metadata": {
        "id": "b4b01be8-a058-49fd-95b4-5416b04838a6"
      },
      "outputs": [],
      "source": [
        "#importing and labelling data\n",
        "#service represents customer service, activity represents online activity as referred to table above\n",
        "import pandas as pd\n",
        "excelfile = pd.ExcelFile(\"Customer_Churn_Data_Large.xlsx\")\n",
        "excelfile.sheet_names\n",
        "demographics = pd.read_excel(excelfile, \"Customer_Demographics\")\n",
        "transactions = pd.read_excel(excelfile, \"Transaction_History\")\n",
        "service = pd.read_excel(excelfile, \"Customer_Service\")\n",
        "activity = pd.read_excel(excelfile, \"Online_Activity\")\n",
        "churn = pd.read_excel(excelfile, \"Churn_Status\")\n",
        "\n",
        "#select only correct columns from demographics dataframe\n",
        "demographics_selected = demographics[['CustomerID', 'Age', 'Gender', 'IncomeLevel', 'MaritalStatus']]\n",
        "\n",
        "#merging data under key CustomerID\n",
        "df = demographics_selected.merge(transactions, on=\"CustomerID\", how=\"left\")\n",
        "df = df.merge(service, on=\"CustomerID\", how=\"left\")\n",
        "df = df.merge(activity, on=\"CustomerID\", how=\"left\")\n",
        "df = df.merge(churn, on=\"CustomerID\", how=\"left\")\n",
        "df.fillna({\n",
        "    'IncomeLevel': 'Missing',\n",
        "}, inplace=True)\n",
        "\n",
        "# Remove date columns before further processing\n",
        "df = df.drop(['TransactionDate', 'InteractionDate', 'LastLoginDate'], axis=1)\n",
        "\n",
        "#remove outliers as needed//set bounds for outliers by quantiles\n",
        "for col in ['Age', 'AmountSpent', 'LoginFrequency']:\n",
        "    q01 = df[col].quantile(0.01)\n",
        "    q99 = df[col].quantile(0.99)\n",
        "    df[col] = df[col].clip(q01, q99)\n",
        "\n",
        "df = pd.get_dummies(df, drop_first=True)\n",
        "from sklearn.preprocessing import StandardScaler\n",
        "scaler = StandardScaler()\n",
        "numeric = df.select_dtypes(include=['float64', 'int64']).columns\n",
        "# Exclude 'ChurnStatus' from scaling\n",
        "numeric = [col for col in numeric if col != 'ChurnStatus']\n",
        "df[numeric] = scaler.fit_transform(df[numeric])\n",
        "df.to_csv(\"cleaned_churn_dataset.csv\", index=False)"
      ]
    },
    {
      "cell_type": "markdown",
      "source": [
        "##I chose to use Scikit-Learn train-test-split model with the relative test_size, then use the randomForest model as a classifier since it is most suitable with balancing the type of data associated\n",
        "Note: (relevant to task 2)"
      ],
      "metadata": {
        "id": "nj70prTzp1ph"
      },
      "id": "nj70prTzp1ph"
    },
    {
      "cell_type": "code",
      "metadata": {
        "colab": {
          "base_uri": "https://localhost:8080/",
          "height": 620
        },
        "id": "358256d1",
        "outputId": "66669a55-1a1d-4f6e-f627-66a3af1f805b"
      },
      "source": [
        "from sklearn.model_selection import train_test_split\n",
        "from sklearn.ensemble import RandomForestClassifier\n",
        "from sklearn.metrics import accuracy_score, precision_score, recall_score, f1_score, confusion_matrix\n",
        "import matplotlib.pyplot as plt\n",
        "import seaborn as sns\n",
        "\n",
        "#drop the 'TransactionDate' column as its not a suitable feature for the model\n",
        "X = df.drop(['ChurnStatus'], axis=1)\n",
        "y = df['ChurnStatus']\n",
        "\n",
        "\n",
        "X_train, X_test, y_train, y_test = train_test_split(X, y, test_size=0.2, random_state=42)\n",
        "\n",
        "#test the display the shapes of the resulting sets\n",
        "print(\"Shape of X_train:\", X_train.shape)\n",
        "print(\"Shape of X_test:\", X_test.shape)\n",
        "print(\"Shape of y_train:\", y_train.shape)\n",
        "print(\"Shape of y_test:\", y_test.shape)\n",
        "\n",
        "#apply the RandomForestClassifier model as needed\n",
        "model = RandomForestClassifier(\n",
        "    n_estimators=1000\n",
        ")\n",
        "model.fit(X_train, y_train)\n",
        "predictions = model.predict(X_test)\n",
        "accuracy = accuracy_score(y_test, predictions)\n",
        "precision = precision_score(y_test, predictions)\n",
        "recall = recall_score(y_test, predictions)\n",
        "f1 = f1_score(y_test, predictions)\n",
        "print(f\"Accuracy: {accuracy:.4f}\")\n",
        "print(f\"Precision: {precision:.4f}\")\n",
        "print(f\"Recall: {recall:.4f}\")\n",
        "print(f\"F1-Score: {f1:.4f}\")\n",
        "confusion_matrix = confusion_matrix(y_test, predictions)\n",
        "plt.xlabel('Predicted')\n",
        "plt.ylabel('Actual')\n",
        "plt.title('Confusion Matrix')\n",
        "plt.show()\n",
        "proba_predictions = model.predict_proba(X_test)\n",
        "probabilities = proba_predictions[:, 1]\n",
        "X_test = X_test.reset_index(drop=True)\n",
        "X_test['churn_probability'] = probabilities.tolist()"
      ],
      "id": "358256d1",
      "execution_count": 11,
      "outputs": [
        {
          "output_type": "stream",
          "name": "stdout",
          "text": [
            "Shape of X_train: (5449, 21)\n",
            "Shape of X_test: (1363, 21)\n",
            "Shape of y_train: (5449,)\n",
            "Shape of y_test: (1363,)\n",
            "Accuracy: 0.9817\n",
            "Precision: 1.0000\n",
            "Recall: 0.9008\n",
            "F1-Score: 0.9478\n"
          ]
        },
        {
          "output_type": "display_data",
          "data": {
            "text/plain": [
              "<Figure size 640x480 with 1 Axes>"
            ],
            "image/png": "[encoded data removed]"
          },
          "metadata": {}
        }
      ]
    },
    {
      "cell_type": "markdown",
      "metadata": {
        "id": "3a53a5cb"
      },
      "source": [
        "## Analyze churn distribution\n",
        "\n",
        "### Subtask:\n",
        "Visualize the distribution of the 'ChurnStatus' column to understand the proportion of churned versus non-churned customers.\n"
      ],
      "id": "3a53a5cb"
    },
    {
      "cell_type": "code",
      "metadata": {
        "id": "df34742d"
      },
      "source": [
        "import matplotlib.pyplot as plt\n",
        "import seaborn as sns\n",
        "\n",
        "plt.figure(figsize=(6, 4))\n",
        "sns.countplot(x='ChurnStatus', data=df)\n",
        "plt.title('Distribution of Customer Churn Status')\n",
        "plt.xlabel('Churn Status')\n",
        "plt.ylabel('Number of Customers')\n",
        "plt.show()\n",
        "\n",
        "numerical_cols = df.select_dtypes(include=['float64', 'int64']).columns.tolist()\n",
        "exclude_cols = ['CustomerID', 'TransactionID', 'ChurnStatus']\n",
        "numerical_cols = [col for col in numerical_cols if col not in exclude_cols]\n",
        "\n",
        "for col in numerical_cols:\n",
        "    plt.figure(figsize=(10, 6))\n",
        "    sns.histplot(data=df, x=col, kde=True)\n",
        "    plt.title(f'Distribution of {col}')\n",
        "    plt.xlabel(col)\n",
        "    plt.ylabel('Frequency')\n",
        "    plt.show()\n",
        "\n",
        "    plt.figure(figsize=(10, 6))\n",
        "    sns.boxplot(data=df, x=col)\n",
        "    plt.title(f'Box Plot of {col}')\n",
        "    plt.xlabel(col)\n",
        "    plt.show()"
      ],
      "id": "df34742d",
      "execution_count": null,
      "outputs": []
    }
  ],
  "metadata": {
    "kernelspec": {
      "display_name": "Python 3 (ipykernel)",
      "language": "python",
      "name": "python3"
    },
    "language_info": {
      "codemirror_mode": {
        "name": "ipython",
        "version": 3
      },
      "file_extension": ".py",
      "mimetype": "text/x-python",
      "name": "python",
      "nbconvert_exporter": "python",
      "pygments_lexer": "ipython3",
      "version": "3.12.4"
    },
    "colab": {
      "provenance": [],
      "include_colab_link": true
    }
  },
  "nbformat": 4,
  "nbformat_minor": 5
}